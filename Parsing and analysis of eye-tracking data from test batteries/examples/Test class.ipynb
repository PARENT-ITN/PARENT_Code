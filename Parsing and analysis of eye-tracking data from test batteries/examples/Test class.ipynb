{
 "cells": [
  {
   "cell_type": "code",
   "execution_count": 20,
   "metadata": {},
   "outputs": [],
   "source": [
    "import sys\n",
    "sys.path.append(\"..\") # go to parent dir to import utilities\n",
    "import lib_neus_et as neus\n",
    "import json\n",
    "\n",
    "import numpy as np\n",
    "import pandas as pd"
   ]
  },
  {
   "cell_type": "code",
   "execution_count": 21,
   "metadata": {},
   "outputs": [],
   "source": [
    "data_path= '../data/' #This is the path to recordings"
   ]
  },
  {
   "cell_type": "code",
   "execution_count": 22,
   "metadata": {},
   "outputs": [
    {
     "name": "stdout",
     "output_type": "stream",
     "text": [
      "Reading parameters\n"
     ]
    }
   ],
   "source": [
    "# Load parameters\n",
    "\n",
    "params = neus.preprocessParameters('../lib_neus_et/parameters/')"
   ]
  },
  {
   "cell_type": "code",
   "execution_count": 23,
   "metadata": {},
   "outputs": [
    {
     "name": "stdout",
     "output_type": "stream",
     "text": [
      "Num recordings: 1\n"
     ]
    },
    {
     "data": {
      "text/plain": [
       "'../data/001/test-example-sl-0.json'"
      ]
     },
     "execution_count": 23,
     "metadata": {},
     "output_type": "execute_result"
    }
   ],
   "source": [
    "# Load one patient with getUsers function\n",
    "pat_files = neus.getUsers(data_path, 'example')\n",
    "print('Num recordings:', len(pat_files))\n",
    "f = pat_files[0]\n",
    "f"
   ]
  },
  {
   "cell_type": "code",
   "execution_count": 24,
   "metadata": {},
   "outputs": [],
   "source": [
    "# Create an instance of ET_Test with the parameters loaded from file\n",
    "T = neus.ET_Test(f, params)"
   ]
  },
  {
   "cell_type": "code",
   "execution_count": 25,
   "metadata": {},
   "outputs": [
    {
     "name": "stdout",
     "output_type": "stream",
     "text": [
      "          Test ID: 9\n",
      "    Eyetracker ID: IS404-101107121473\n",
      "     Test version: f67cf6e\n",
      "Screen resolution: 1920x1080\n",
      "\n",
      "Sorting data.\n",
      "Checking for back button use.\n",
      "Parsing data into separate tasks.\n",
      "  Dummy task found 1x.\n",
      "End of test detected; data read in full.\n",
      "\n"
     ]
    }
   ],
   "source": [
    "# Initialize all tasks with parse method. Since it is data from children we use the \"meta\" parameter.\n",
    "T.parse(process_mode='meta', verbose=True)\n",
    "\n",
    "# The end of test was not detected but this is normal with the new tests because they have no final message."
   ]
  },
  {
   "cell_type": "code",
   "execution_count": 26,
   "metadata": {},
   "outputs": [
    {
     "data": {
      "text/plain": [
       "90"
      ]
     },
     "execution_count": 26,
     "metadata": {},
     "output_type": "execute_result"
    }
   ],
   "source": [
    "# Get sampling rate of the eye-tracking\n",
    "\n",
    "T.task_list['Dummy'][0]._et.sampling_rate"
   ]
  },
  {
   "cell_type": "code",
   "execution_count": 27,
   "metadata": {},
   "outputs": [
    {
     "data": {
      "text/plain": [
       "{'Dummy': [<lib_neus_et.tasks.dummy.Dummy at 0x2adf842b1f0>]}"
      ]
     },
     "execution_count": 27,
     "metadata": {},
     "output_type": "execute_result"
    }
   ],
   "source": [
    "# The list of task objects initialized. One per repetition\n",
    "\n",
    "T.task_list"
   ]
  },
  {
   "cell_type": "code",
   "execution_count": 28,
   "metadata": {},
   "outputs": [
    {
     "name": "stdout",
     "output_type": "stream",
     "text": [
      "Computing features for task Dummy.\n",
      "\n",
      "Computing features of Dummy task.\n"
     ]
    }
   ],
   "source": [
    "# Compute all features\n",
    "_ = T.compute(task_list=None,verbose=True)\n"
   ]
  },
  {
   "cell_type": "code",
   "execution_count": 29,
   "metadata": {},
   "outputs": [
    {
     "data": {
      "text/plain": [
       "{'Dummy': [{'dummy.nan': {'L': 0.4961133973479652, 'R': 0.5016003657978967, 'M': 0.4897119341563786, 'join': nan}, 'dummy.fix_num': {'L': 20, 'R': 19, 'M': 17, 'join': nan}, 'dummy.cat': {'L': nan, 'R': nan, 'M': nan, 'join': 'A'}}]}"
      ]
     },
     "execution_count": 29,
     "metadata": {},
     "output_type": "execute_result"
    }
   ],
   "source": [
    "# Now features are available \n",
    "T.features"
   ]
  },
  {
   "cell_type": "code",
   "execution_count": 30,
   "metadata": {},
   "outputs": [
    {
     "name": "stdout",
     "output_type": "stream",
     "text": [
      "Computing features for task Dummy.\n"
     ]
    }
   ],
   "source": [
    "# We can reduce to a single value each feature (collapse multiple eyes by taking the best). This must be ALWAYS done after computing all features.\n",
    "_ = T.compute_best_eye(verbose=True)"
   ]
  },
  {
   "cell_type": "code",
   "execution_count": 31,
   "metadata": {},
   "outputs": [
    {
     "data": {
      "text/plain": [
       "{'Dummy': [{'dummy.nan': 0.4897119341563786, 'dummy.fix_num': 19, 'dummy.cat': 'A'}]}"
      ]
     },
     "execution_count": 31,
     "metadata": {},
     "output_type": "execute_result"
    }
   ],
   "source": [
    "# And then the output can be accessed separately\n",
    "T.features_be"
   ]
  },
  {
   "cell_type": "code",
   "execution_count": 32,
   "metadata": {},
   "outputs": [],
   "source": [
    "# Create a pandas DataFrame \n",
    "\n",
    "df = T.to_pandas(best_eye=False)"
   ]
  },
  {
   "cell_type": "code",
   "execution_count": 33,
   "metadata": {},
   "outputs": [
    {
     "data": {
      "text/html": [
       "<div>\n",
       "<style scoped>\n",
       "    .dataframe tbody tr th:only-of-type {\n",
       "        vertical-align: middle;\n",
       "    }\n",
       "\n",
       "    .dataframe tbody tr th {\n",
       "        vertical-align: top;\n",
       "    }\n",
       "\n",
       "    .dataframe thead th {\n",
       "        text-align: right;\n",
       "    }\n",
       "</style>\n",
       "<table border=\"1\" class=\"dataframe\">\n",
       "  <thead>\n",
       "    <tr style=\"text-align: right;\">\n",
       "      <th></th>\n",
       "      <th>num_rep</th>\n",
       "      <th>dummy.nan.L</th>\n",
       "      <th>dummy.nan.R</th>\n",
       "      <th>dummy.nan.M</th>\n",
       "      <th>dummy.nan.join</th>\n",
       "      <th>dummy.fix_num.L</th>\n",
       "      <th>dummy.fix_num.R</th>\n",
       "      <th>dummy.fix_num.M</th>\n",
       "      <th>dummy.fix_num.join</th>\n",
       "      <th>dummy.cat.L</th>\n",
       "      <th>dummy.cat.R</th>\n",
       "      <th>dummy.cat.M</th>\n",
       "      <th>dummy.cat.join</th>\n",
       "    </tr>\n",
       "  </thead>\n",
       "  <tbody>\n",
       "    <tr>\n",
       "      <th>0</th>\n",
       "      <td>0</td>\n",
       "      <td>0.496113</td>\n",
       "      <td>0.5016</td>\n",
       "      <td>0.489712</td>\n",
       "      <td>NaN</td>\n",
       "      <td>20</td>\n",
       "      <td>19</td>\n",
       "      <td>17</td>\n",
       "      <td>NaN</td>\n",
       "      <td>NaN</td>\n",
       "      <td>NaN</td>\n",
       "      <td>NaN</td>\n",
       "      <td>A</td>\n",
       "    </tr>\n",
       "  </tbody>\n",
       "</table>\n",
       "</div>"
      ],
      "text/plain": [
       "   num_rep  dummy.nan.L  dummy.nan.R  dummy.nan.M  dummy.nan.join  \\\n",
       "0        0     0.496113       0.5016     0.489712             NaN   \n",
       "\n",
       "   dummy.fix_num.L  dummy.fix_num.R  dummy.fix_num.M  dummy.fix_num.join  \\\n",
       "0               20               19               17                 NaN   \n",
       "\n",
       "   dummy.cat.L  dummy.cat.R  dummy.cat.M dummy.cat.join  \n",
       "0          NaN          NaN          NaN              A  "
      ]
     },
     "execution_count": 33,
     "metadata": {},
     "output_type": "execute_result"
    }
   ],
   "source": [
    "df.head()"
   ]
  },
  {
   "cell_type": "code",
   "execution_count": 34,
   "metadata": {},
   "outputs": [
    {
     "data": {
      "text/html": [
       "<div>\n",
       "<style scoped>\n",
       "    .dataframe tbody tr th:only-of-type {\n",
       "        vertical-align: middle;\n",
       "    }\n",
       "\n",
       "    .dataframe tbody tr th {\n",
       "        vertical-align: top;\n",
       "    }\n",
       "\n",
       "    .dataframe thead th {\n",
       "        text-align: right;\n",
       "    }\n",
       "</style>\n",
       "<table border=\"1\" class=\"dataframe\">\n",
       "  <thead>\n",
       "    <tr style=\"text-align: right;\">\n",
       "      <th></th>\n",
       "      <th>num_rep</th>\n",
       "      <th>dummy.nan</th>\n",
       "      <th>dummy.fix_num</th>\n",
       "      <th>dummy.cat</th>\n",
       "    </tr>\n",
       "  </thead>\n",
       "  <tbody>\n",
       "    <tr>\n",
       "      <th>0</th>\n",
       "      <td>0</td>\n",
       "      <td>0.489712</td>\n",
       "      <td>19</td>\n",
       "      <td>A</td>\n",
       "    </tr>\n",
       "  </tbody>\n",
       "</table>\n",
       "</div>"
      ],
      "text/plain": [
       "   num_rep  dummy.nan  dummy.fix_num dummy.cat\n",
       "0        0   0.489712             19         A"
      ]
     },
     "execution_count": 34,
     "metadata": {},
     "output_type": "execute_result"
    }
   ],
   "source": [
    "# Same can be done with best eye\n",
    "\n",
    "df = T.to_pandas(best_eye=True)\n",
    "df.head()"
   ]
  },
  {
   "cell_type": "code",
   "execution_count": 35,
   "metadata": {},
   "outputs": [
    {
     "name": "stdout",
     "output_type": "stream",
     "text": [
      "Number of repetitions before: 1\n",
      "Number of repetitions after: 0\n"
     ]
    }
   ],
   "source": [
    "# Let's now introduce a threshold of missing value and remove some repetitions (removed repetitions are lost and must be computed again)\n",
    "\n",
    "print('Number of repetitions before:', len(T.features['Dummy']))\n",
    "\n",
    "T.threshold_nan('Dummy', 'M', threshold=0.1)\n",
    "\n",
    "print('Number of repetitions after:',len(T.features['Dummy']))"
   ]
  },
  {
   "cell_type": "markdown",
   "metadata": {},
   "source": [
    "The task was removed because it has more than 10% of missing values, leaving the dataset empty."
   ]
  }
 ],
 "metadata": {
  "kernelspec": {
   "display_name": "base",
   "language": "python",
   "name": "python3"
  },
  "language_info": {
   "codemirror_mode": {
    "name": "ipython",
    "version": 3
   },
   "file_extension": ".py",
   "mimetype": "text/x-python",
   "name": "python",
   "nbconvert_exporter": "python",
   "pygments_lexer": "ipython3",
   "version": "3.9.12"
  }
 },
 "nbformat": 4,
 "nbformat_minor": 2
}
