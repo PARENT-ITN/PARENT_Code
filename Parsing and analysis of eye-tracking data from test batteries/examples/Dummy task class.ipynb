{
 "cells": [
  {
   "cell_type": "code",
   "execution_count": 18,
   "id": "b9cb2c7e",
   "metadata": {},
   "outputs": [],
   "source": [
    "import sys\n",
    "sys.path.append(\"../\") # go to parent dir to import utilities\n",
    "import lib_neus_et as neus\n",
    "\n",
    "import numpy as np"
   ]
  },
  {
   "cell_type": "code",
   "execution_count": 19,
   "id": "25c5a1ac",
   "metadata": {},
   "outputs": [],
   "source": [
    "# Directory containing the patients' data, one for each subject\n",
    "\n",
    "data_path= '../data/'\n",
    "\n",
    "# Task name\n",
    "task = 'Dummy'\n",
    "\n",
    "# Screen info\n",
    "sc_info = {'diagonal' : 60, 'distance' : 60.0, 'resolution' : {'width' : 1920, 'height' : 1080}, 'size' : {'width' : 521, 'height' : 293}}"
   ]
  },
  {
   "cell_type": "code",
   "execution_count": 20,
   "id": "16a08a5d",
   "metadata": {},
   "outputs": [
    {
     "name": "stdout",
     "output_type": "stream",
     "text": [
      "1\n"
     ]
    },
    {
     "data": {
      "text/plain": [
       "'../data/001/test-example-sl-0.json'"
      ]
     },
     "execution_count": 20,
     "metadata": {},
     "output_type": "execute_result"
    }
   ],
   "source": [
    "# Select a file\n",
    "\n",
    "pat_files = neus.getUsers(data_path, 'example')\n",
    "print(len(pat_files))\n",
    "f = pat_files[0]\n",
    "f"
   ]
  },
  {
   "cell_type": "code",
   "execution_count": 21,
   "id": "cd9df022",
   "metadata": {},
   "outputs": [],
   "source": [
    "# The correct task can be accessed by a factory\n",
    "\n",
    "a = neus.tasks.TaskFactory(task)"
   ]
  },
  {
   "cell_type": "code",
   "execution_count": 22,
   "id": "c6baa621",
   "metadata": {},
   "outputs": [],
   "source": [
    "# The screen object is initialized\n",
    "\n",
    "sc = neus.Screen(sc_info)"
   ]
  },
  {
   "cell_type": "code",
   "execution_count": 23,
   "id": "c99c5b87",
   "metadata": {},
   "outputs": [
    {
     "name": "stdout",
     "output_type": "stream",
     "text": [
      "          Test ID: 9\n",
      "    Eyetracker ID: IS404-101107121473\n",
      "     Test version: f67cf6e\n",
      "Screen resolution: 1920x1080\n",
      "\n",
      "Sorting data.\n",
      "Checking for back button use.\n",
      "Parsing data into separate tasks.\n",
      "  Dummy task found 1x.\n",
      "End of test detected; data read in full.\n",
      "\n"
     ]
    }
   ],
   "source": [
    "# Preprocess data\n",
    "\n",
    "dt, task_df, info = neus.preprocessData(f, 'meta', True)"
   ]
  },
  {
   "cell_type": "markdown",
   "id": "9b029599",
   "metadata": {},
   "source": [
    "A list of the available tasks is printed. Data is saved as a list in *dt*"
   ]
  },
  {
   "cell_type": "code",
   "execution_count": 24,
   "id": "f5e252c3",
   "metadata": {},
   "outputs": [],
   "source": [
    "# Repetition\n",
    "idx = 0\n",
    "\n",
    "# Slice the section partaining to the task\n",
    "d = dt[task_df[task][idx][0]:task_df[task][idx][1]]\n",
    "\n",
    "# Initialize an ET_Data object containing the ET raw data for the slice\n",
    "et = neus.datasets.ET_Data(d, sampling = 90, screen=sc)\n"
   ]
  },
  {
   "cell_type": "code",
   "execution_count": 25,
   "id": "80dc6f3b",
   "metadata": {},
   "outputs": [],
   "source": [
    "# Pursuit parameters\n",
    "\n",
    "params = {\"max_nan\" : 14,\n",
    "    \"fix_params\" : {\"minimum_duration\" : 0.15,\n",
    "                          \"max_dist\" : 30,\n",
    "                          \"max_nan\" : 14,\n",
    "                          \"mode\" : \"pixel\"}}"
   ]
  },
  {
   "cell_type": "code",
   "execution_count": 26,
   "id": "3eda8a40",
   "metadata": {},
   "outputs": [
    {
     "name": "stdout",
     "output_type": "stream",
     "text": [
      "<class 'lib_neus_et.tasks.dummy.Dummy'>\n"
     ]
    }
   ],
   "source": [
    "# Create the task object\n",
    "\n",
    "b = a(et, {})\n",
    "\n",
    "print(type(b))"
   ]
  },
  {
   "cell_type": "code",
   "execution_count": 27,
   "id": "6301d3ac",
   "metadata": {},
   "outputs": [
    {
     "name": "stdout",
     "output_type": "stream",
     "text": [
      "\n",
      "Computing features of Dummy task.\n"
     ]
    }
   ],
   "source": [
    "# Compute features\n",
    "f_data = b.compute(verbose=True, **params)"
   ]
  },
  {
   "cell_type": "code",
   "execution_count": 28,
   "id": "8dd1e305",
   "metadata": {},
   "outputs": [
    {
     "data": {
      "text/plain": [
       "[{'dummy.nan': {'L': 0.4961133973479652,\n",
       "   'R': 0.5016003657978967,\n",
       "   'M': 0.4897119341563786,\n",
       "   'join': nan},\n",
       "  'dummy.fix_num': {'L': 20, 'R': 19, 'M': 17, 'join': nan},\n",
       "  'dummy.cat': {'L': nan, 'R': nan, 'M': nan, 'join': 'A'}}]"
      ]
     },
     "execution_count": 28,
     "metadata": {},
     "output_type": "execute_result"
    }
   ],
   "source": [
    "# Features can be accessed\n",
    "f_data._data"
   ]
  },
  {
   "cell_type": "code",
   "execution_count": 29,
   "id": "44eb158d",
   "metadata": {},
   "outputs": [],
   "source": [
    "# Best eye\n",
    "\n",
    "f_data_be = b.compute_best_eye(verbose=True)"
   ]
  },
  {
   "cell_type": "code",
   "execution_count": 30,
   "id": "414547b0",
   "metadata": {},
   "outputs": [
    {
     "data": {
      "text/plain": [
       "[{'dummy.nan': 0.4897119341563786, 'dummy.fix_num': 19, 'dummy.cat': 'A'}]"
      ]
     },
     "execution_count": 30,
     "metadata": {},
     "output_type": "execute_result"
    }
   ],
   "source": [
    "f_data_be"
   ]
  },
  {
   "cell_type": "code",
   "execution_count": 31,
   "id": "6bcc000a",
   "metadata": {},
   "outputs": [
    {
     "name": "stdout",
     "output_type": "stream",
     "text": [
      "Naming convention of Dummy task:\n",
      "\n",
      "<task>.<feature>\n",
      "\n",
      "where <task> is \"dummy\" and <feature> is the name of the feature. For more information on the features use the method \"get_feat_names\".\n"
     ]
    }
   ],
   "source": [
    "# Explain the naming convention for the task\n",
    "\n",
    "b.explain_naming()"
   ]
  },
  {
   "cell_type": "code",
   "execution_count": 32,
   "id": "ebd5432f",
   "metadata": {},
   "outputs": [
    {
     "data": {
      "text/plain": [
       "['nan : Percentage missing values.',\n",
       " 'fix_num : Number of fixations.',\n",
       " 'cat : Category of dummy. (Always A in example).']"
      ]
     },
     "execution_count": 32,
     "metadata": {},
     "output_type": "execute_result"
    }
   ],
   "source": [
    "# Let's check the features names\n",
    "b.get_feat_names(descriptions=True)"
   ]
  },
  {
   "cell_type": "markdown",
   "id": "4319d05e",
   "metadata": {},
   "source": [
    "## Plot test"
   ]
  },
  {
   "cell_type": "markdown",
   "id": "4810570e",
   "metadata": {},
   "source": [
    "Then we can visualize gaze trajectories"
   ]
  },
  {
   "cell_type": "code",
   "execution_count": 33,
   "id": "3dc7e238",
   "metadata": {},
   "outputs": [
    {
     "name": "stdout",
     "output_type": "stream",
     "text": [
      "\n",
      "Computing features of Dummy task.\n"
     ]
    },
    {
     "data": {
      "image/png": "[encoded data removed]",
      "text/plain": [
       "<Figure size 1080x720 with 3 Axes>"
      ]
     },
     "metadata": {
      "needs_background": "light"
     },
     "output_type": "display_data"
    }
   ],
   "source": [
    "b.plot(figsize=(15,10), plot_features=True)"
   ]
  },
  {
   "cell_type": "code",
   "execution_count": null,
   "id": "1677e339",
   "metadata": {},
   "outputs": [],
   "source": []
  }
 ],
 "metadata": {
  "kernelspec": {
   "display_name": "base",
   "language": "python",
   "name": "python3"
  },
  "language_info": {
   "codemirror_mode": {
    "name": "ipython",
    "version": 3
   },
   "file_extension": ".py",
   "mimetype": "text/x-python",
   "name": "python",
   "nbconvert_exporter": "python",
   "pygments_lexer": "ipython3",
   "version": "3.9.12"
  }
 },
 "nbformat": 4,
 "nbformat_minor": 5
}
